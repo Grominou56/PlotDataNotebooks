{
 "cells": [
  {
   "cell_type": "code",
   "execution_count": null,
   "id": "7785bae6",
   "metadata": {},
   "outputs": [],
   "source": [
    "import matplotlib.pyplot as plt\n",
    "import pandas as pd\n",
    "from tkinter import Tk, filedialog\n",
    "import numpy as np\n",
    "import ezodf"
   ]
  },
  {
   "cell_type": "code",
   "execution_count": null,
   "id": "2a339ced",
   "metadata": {},
   "outputs": [],
   "source": [
    "\"\"\" Load dataset as Pandas dataframe \"\"\"\n",
    "\n",
    "# Function to open a file dialog and load an Excel or CSV file into a pandas DataFrame\n",
    "def load_file():\n",
    "    # Initialize Tkinter window (hidden)\n",
    "    root = Tk()\n",
    "    root.withdraw()  # Hide the root window\n",
    "\n",
    "    # Prompt the user to select a file\n",
    "    file_path = filedialog.askopenfilename(\n",
    "        title=\"Select a file\", \n",
    "        filetypes=[(\"Excel files\", \"*.xlsx *.xls\"), (\"OSD files\", \"*.ods\"), (\"CSV files\", \"*.csv\"), (\"All files\", \"*.*\")]\n",
    "    )\n",
    "\n",
    "    # Check if a file was selected\n",
    "    if file_path:\n",
    "        try:\n",
    "            if file_path.endswith('.csv'):\n",
    "                # Load CSV file\n",
    "                df = pd.read_csv(file_path)\n",
    "            elif file_path.endswith('.xlsx') or file_path.endswith('.xls'):\n",
    "                # Load Excel file\n",
    "                df = pd.read_excel(file_path)\n",
    "            elif file_path.endswith('.ods'):\n",
    "                spreadsheet = ezodf.opendoc(file_path)\n",
    "                sheet = spreadsheet.sheets[0]\n",
    "                data = []\n",
    "                for row in sheet.rows():\n",
    "                    row_data = [cell.value for cell in row]\n",
    "                    data.append(row_data)\n",
    "                header = data[0]\n",
    "                data = data[1:]\n",
    "                df = pd.DataFrame(data, columns=header)\n",
    "            else:\n",
    "                print(\"Unsupported file type\")\n",
    "                return None\n",
    "            \n",
    "            print(f\"File loaded successfully: {file_path}\")\n",
    "            return df\n",
    "        except Exception as e:\n",
    "            print(f\"Error loading file: {e}\")\n",
    "            return None\n",
    "    else:\n",
    "        print(\"No file selected\")\n",
    "        return None\n"
   ]
  },
  {
   "cell_type": "code",
   "execution_count": null,
   "id": "940c8169",
   "metadata": {},
   "outputs": [],
   "source": [
    "# Load the data\n",
    "df = load_file()\n",
    "if df is not None:\n",
    "    print(df.head())\n",
    "\n",
    "data = df[\"data\"].tolist()"
   ]
  },
  {
   "cell_type": "code",
   "execution_count": null,
   "id": "80c39af9",
   "metadata": {},
   "outputs": [],
   "source": [
    "# Calculate the IQR\n",
    "IQR = np.percentile(data, 75) - np.percentile(data, 25)\n",
    "\n",
    "# Calculate the bin width using the Freedman-Diaconis rule\n",
    "bin_width_fd = 2 * IQR / np.power(len(data), 1/3)\n",
    "\n",
    "# Calculate the bin width using Sturges' rule\n",
    "bin_width_sturgess = (np.max(data) - np.min(data)) / (1 + 3.3 * np.log10(len(data)))\n",
    "\n",
    "# Calculate the bin width using Scott's rule\n",
    "bin_width_scott = 3.49 * np.std(data) / np.power(len(data), 1/3)\n",
    "\n",
    "print(\"bin width: {:.4f} (Freedman-Diaconis); {:.4f} (Sturges); {:.4f} (Scott)\".format(bin_width_fd, bin_width_sturgess, bin_width_scott))\n",
    "\n",
    "# Create histograms using the different bin widths\n",
    "plt.hist(data, bins=np.arange(min(data), max(data), bin_width_fd))\n",
    "# plt.hist(data, bins=np.arange(min(data), max(data), bin_width_sturgess))\n",
    "# plt.hist(data, bins=np.arange(min(data), max(data), bin_width_scott))\n",
    "plt.show()"
   ]
  }
 ],
 "metadata": {
  "kernelspec": {
   "display_name": ".venv",
   "language": "python",
   "name": "python3"
  },
  "language_info": {
   "codemirror_mode": {
    "name": "ipython",
    "version": 3
   },
   "file_extension": ".py",
   "mimetype": "text/x-python",
   "name": "python",
   "nbconvert_exporter": "python",
   "pygments_lexer": "ipython3",
   "version": "3.11.2"
  }
 },
 "nbformat": 4,
 "nbformat_minor": 5
}
