{
 "cells": [
  {
   "cell_type": "code",
   "execution_count": null,
   "id": "80c39af9",
   "metadata": {},
   "outputs": [],
   "source": [
    "import numpy as np\n",
    "import matplotlib.pyplot as plt\n",
    "\n",
    "# Load the data\n",
    "data = np.array([1, 2, 3, 4, 5])\n",
    "\n",
    "# Calculate the IQR\n",
    "IQR = np.percentile(data, 75) - np.percentile(data, 25)\n",
    "\n",
    "# Calculate the bin width using the Freedman-Diaconis rule\n",
    "bin_width_fd = 2 * IQR / np.power(len(data), 1/3)\n",
    "\n",
    "# Calculate the bin width using Sturges' rule\n",
    "bin_width_sturgess = (np.max(data) - np.min(data)) / (1 + 3.3 * np.log10(len(data)))\n",
    "\n",
    "# Calculate the bin width using Scott's rule\n",
    "bin_width_scott = 3.49 * np.std(data) / np.power(len(data), 1/3)\n",
    "\n",
    "# Create histograms using the different bin widths\n",
    "plt.hist(data, bins=np.arange(min(data), max(data), bin_width_fd))\n",
    "plt.hist(data, bins=np.arange(min(data), max(data), bin_width_sturgess))\n",
    "plt.hist(data, bins=np.arange(min(data), max(data), bin_width_scott))\n",
    "plt.show()"
   ]
  }
 ],
 "metadata": {
  "language_info": {
   "name": "python"
  }
 },
 "nbformat": 4,
 "nbformat_minor": 5
}
